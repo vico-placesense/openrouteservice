{
 "cells": [
  {
   "cell_type": "code",
   "execution_count": 5,
   "metadata": {},
   "outputs": [],
   "source": [
    "import requests\n",
    "import pandas as pd\n",
    "import numpy as np\n",
    "import time\n",
    "import json\n",
    "import pandas_gbq\n",
    "from google.oauth2.service_account import Credentials\n",
    "from google.cloud import bigquery\n",
    "\n",
    "# TODO: Set path to credentials \n",
    "cred_path = r'C:\\Users\\vicow\\Documents\\PlaceSense\\credentials_cs.json'\n",
    "credentials = Credentials.from_service_account_file(cred_path)\n",
    "\n",
    "# Create GBQ client\n",
    "#bqclient = bigquery.Client(credentials=credentials)"
   ]
  },
  {
   "cell_type": "code",
   "execution_count": 12,
   "metadata": {},
   "outputs": [
    {
     "data": {
      "text/plain": [
       "[[4.378308747355544, 52.06905274939536],\n",
       " [4.289123111155115, 52.070427006374416],\n",
       " [4.277123128301878, 52.09660214513916],\n",
       " [4.286990047163461, 52.064168775563815],\n",
       " [4.280999322209033, 52.04303419899174],\n",
       " [4.29965745028815, 52.09077143804953],\n",
       " [4.267167041204614, 52.05151623343131],\n",
       " [4.298759130910276, 52.01527408010378],\n",
       " [4.365983846451943, 52.0955401845543],\n",
       " [4.279287121964956, 52.078123824787255]]"
      ]
     },
     "execution_count": 12,
     "metadata": {},
     "output_type": "execute_result"
    }
   ],
   "source": [
    "coordinates = pd.read_csv('coordinates/den_haag.csv')\n",
    "\n",
    "locations = []\n",
    "for i,j in zip(coordinates['avg_longitude'], coordinates['avg_latitude']):\n",
    "    locations.append([i,j])\n",
    "locations = locations[:10]\n",
    "\n",
    "locations"
   ]
  },
  {
   "cell_type": "code",
   "execution_count": 6,
   "metadata": {},
   "outputs": [
    {
     "name": "stderr",
     "output_type": "stream",
     "text": [
      "Downloading: 100%|██████████| 10000/10000 [00:50<00:00, 198.36rows/s]\n"
     ]
    },
    {
     "data": {
      "text/html": [
       "<div>\n",
       "<style scoped>\n",
       "    .dataframe tbody tr th:only-of-type {\n",
       "        vertical-align: middle;\n",
       "    }\n",
       "\n",
       "    .dataframe tbody tr th {\n",
       "        vertical-align: top;\n",
       "    }\n",
       "\n",
       "    .dataframe thead th {\n",
       "        text-align: right;\n",
       "    }\n",
       "</style>\n",
       "<table border=\"1\" class=\"dataframe\">\n",
       "  <thead>\n",
       "    <tr style=\"text-align: right;\">\n",
       "      <th></th>\n",
       "      <th>level</th>\n",
       "      <th>country_1</th>\n",
       "      <th>entity_type_1</th>\n",
       "      <th>entity_code_1</th>\n",
       "      <th>entity_code_2</th>\n",
       "    </tr>\n",
       "  </thead>\n",
       "  <tbody>\n",
       "    <tr>\n",
       "      <th>0</th>\n",
       "      <td>1</td>\n",
       "      <td>at</td>\n",
       "      <td>statistical_area</td>\n",
       "      <td>31026008</td>\n",
       "      <td>[31321003, 32135002, 31104000, 31304000, 31111...</td>\n",
       "    </tr>\n",
       "    <tr>\n",
       "      <th>1</th>\n",
       "      <td>1</td>\n",
       "      <td>at</td>\n",
       "      <td>statistical_area</td>\n",
       "      <td>31207003</td>\n",
       "      <td>[91301110, 92301141, 31952004, 92301050, 92301...</td>\n",
       "    </tr>\n",
       "    <tr>\n",
       "      <th>2</th>\n",
       "      <td>1</td>\n",
       "      <td>at</td>\n",
       "      <td>statistical_area</td>\n",
       "      <td>40101342</td>\n",
       "      <td>[40802001, 41808002, 41807000, 40827000, 40831...</td>\n",
       "    </tr>\n",
       "    <tr>\n",
       "      <th>3</th>\n",
       "      <td>1</td>\n",
       "      <td>at</td>\n",
       "      <td>statistical_area</td>\n",
       "      <td>30604002</td>\n",
       "      <td>[92201131, 32131005, 92201134, 31921000, 92101...</td>\n",
       "    </tr>\n",
       "    <tr>\n",
       "      <th>4</th>\n",
       "      <td>1</td>\n",
       "      <td>at</td>\n",
       "      <td>statistical_area</td>\n",
       "      <td>32305003</td>\n",
       "      <td>[92301013, 92301093, 90501025, 90501029, 91201...</td>\n",
       "    </tr>\n",
       "  </tbody>\n",
       "</table>\n",
       "</div>"
      ],
      "text/plain": [
       "   level country_1     entity_type_1 entity_code_1  \\\n",
       "0      1        at  statistical_area      31026008   \n",
       "1      1        at  statistical_area      31207003   \n",
       "2      1        at  statistical_area      40101342   \n",
       "3      1        at  statistical_area      30604002   \n",
       "4      1        at  statistical_area      32305003   \n",
       "\n",
       "                                       entity_code_2  \n",
       "0  [31321003, 32135002, 31104000, 31304000, 31111...  \n",
       "1  [91301110, 92301141, 31952004, 92301050, 92301...  \n",
       "2  [40802001, 41808002, 41807000, 40827000, 40831...  \n",
       "3  [92201131, 32131005, 92201134, 31921000, 92101...  \n",
       "4  [92301013, 92301093, 90501025, 90501029, 91201...  "
      ]
     },
     "execution_count": 6,
     "metadata": {},
     "output_type": "execute_result"
    }
   ],
   "source": [
    "sql = \"\"\"\n",
    "    SELECT \n",
    "        level, country_1, entity_type_1, entity_code_1,\n",
    "        ARRAY_AGG(entity_code_2) entity_code_2\n",
    "    FROM `gifted-slice-218906.production.geolocation_distances`\n",
    "    LEFT JOIN (SELECT level level_1, aerial_distance_km_filter FROM `gifted-slice-218906.production.geolocation_levels`) ON level_1 = level\n",
    "    WHERE level = 1 AND aerial_distance < aerial_distance_km_filter\n",
    "    GROUP BY level, country_1, entity_type_1, entity_code_1\n",
    "    LIMIT 10000\n",
    "\"\"\"\n",
    "\n",
    "#geolocations = bqclient.query(sql).result().to_dataframe()\n",
    "geolocations = pandas_gbq.read_gbq(sql, credentials=credentials)\n",
    "geolocations.head()"
   ]
  },
  {
   "cell_type": "code",
   "execution_count": 7,
   "metadata": {},
   "outputs": [
    {
     "name": "stderr",
     "output_type": "stream",
     "text": [
      "Downloading: 100%|██████████| 11942/11942 [00:01<00:00, 9662.93rows/s]\n"
     ]
    },
    {
     "data": {
      "text/html": [
       "<div>\n",
       "<style scoped>\n",
       "    .dataframe tbody tr th:only-of-type {\n",
       "        vertical-align: middle;\n",
       "    }\n",
       "\n",
       "    .dataframe tbody tr th {\n",
       "        vertical-align: top;\n",
       "    }\n",
       "\n",
       "    .dataframe thead th {\n",
       "        text-align: right;\n",
       "    }\n",
       "</style>\n",
       "<table border=\"1\" class=\"dataframe\">\n",
       "  <thead>\n",
       "    <tr style=\"text-align: right;\">\n",
       "      <th></th>\n",
       "      <th>entity_code_1</th>\n",
       "      <th>avg_longitude_1</th>\n",
       "      <th>avg_latitude_1</th>\n",
       "    </tr>\n",
       "  </thead>\n",
       "  <tbody>\n",
       "    <tr>\n",
       "      <th>0</th>\n",
       "      <td>BU03634803</td>\n",
       "      <td>4.855013</td>\n",
       "      <td>52.344482</td>\n",
       "    </tr>\n",
       "    <tr>\n",
       "      <th>1</th>\n",
       "      <td>BU19161200</td>\n",
       "      <td>4.353547</td>\n",
       "      <td>52.062187</td>\n",
       "    </tr>\n",
       "    <tr>\n",
       "      <th>2</th>\n",
       "      <td>BU19240003</td>\n",
       "      <td>3.982760</td>\n",
       "      <td>51.828038</td>\n",
       "    </tr>\n",
       "    <tr>\n",
       "      <th>3</th>\n",
       "      <td>BU04849404</td>\n",
       "      <td>4.612497</td>\n",
       "      <td>52.123073</td>\n",
       "    </tr>\n",
       "    <tr>\n",
       "      <th>4</th>\n",
       "      <td>BU05460404</td>\n",
       "      <td>4.496786</td>\n",
       "      <td>52.147876</td>\n",
       "    </tr>\n",
       "  </tbody>\n",
       "</table>\n",
       "</div>"
      ],
      "text/plain": [
       "  entity_code_1  avg_longitude_1  avg_latitude_1\n",
       "0    BU03634803         4.855013       52.344482\n",
       "1    BU19161200         4.353547       52.062187\n",
       "2    BU19240003         3.982760       51.828038\n",
       "3    BU04849404         4.612497       52.123073\n",
       "4    BU05460404         4.496786       52.147876"
      ]
     },
     "execution_count": 7,
     "metadata": {},
     "output_type": "execute_result"
    }
   ],
   "source": [
    "sql = f\"\"\"\n",
    "    SELECT entity_code entity_code_1, avg_longitude avg_longitude_1, avg_latitude avg_latitude_1 FROM `gifted-slice-218906.production.geolocations`\n",
    "    WHERE entity_code in UNNEST({list(geolocations['entity_code_1'])})\n",
    "\"\"\"\n",
    "\n",
    "df = pandas_gbq.read_gbq(sql, credentials=credentials)\n",
    "df.head()"
   ]
  },
  {
   "cell_type": "code",
   "execution_count": 8,
   "metadata": {},
   "outputs": [
    {
     "data": {
      "text/html": [
       "<div>\n",
       "<style scoped>\n",
       "    .dataframe tbody tr th:only-of-type {\n",
       "        vertical-align: middle;\n",
       "    }\n",
       "\n",
       "    .dataframe tbody tr th {\n",
       "        vertical-align: top;\n",
       "    }\n",
       "\n",
       "    .dataframe thead th {\n",
       "        text-align: right;\n",
       "    }\n",
       "</style>\n",
       "<table border=\"1\" class=\"dataframe\">\n",
       "  <thead>\n",
       "    <tr style=\"text-align: right;\">\n",
       "      <th></th>\n",
       "      <th>level</th>\n",
       "      <th>country_1</th>\n",
       "      <th>entity_type_1</th>\n",
       "      <th>entity_code_1</th>\n",
       "      <th>entity_code_2</th>\n",
       "      <th>avg_longitude_1</th>\n",
       "      <th>avg_latitude_1</th>\n",
       "    </tr>\n",
       "  </thead>\n",
       "  <tbody>\n",
       "    <tr>\n",
       "      <th>0</th>\n",
       "      <td>1</td>\n",
       "      <td>at</td>\n",
       "      <td>statistical_area</td>\n",
       "      <td>31026008</td>\n",
       "      <td>[31321003, 32135002, 31104000, 31304000, 31111...</td>\n",
       "      <td>15.858162</td>\n",
       "      <td>48.597422</td>\n",
       "    </tr>\n",
       "    <tr>\n",
       "      <th>1</th>\n",
       "      <td>1</td>\n",
       "      <td>at</td>\n",
       "      <td>statistical_area</td>\n",
       "      <td>31207003</td>\n",
       "      <td>[91301110, 92301141, 31952004, 92301050, 92301...</td>\n",
       "      <td>16.417624</td>\n",
       "      <td>48.412800</td>\n",
       "    </tr>\n",
       "    <tr>\n",
       "      <th>2</th>\n",
       "      <td>1</td>\n",
       "      <td>at</td>\n",
       "      <td>statistical_area</td>\n",
       "      <td>40101342</td>\n",
       "      <td>[40802001, 41808002, 41807000, 40827000, 40831...</td>\n",
       "      <td>14.313198</td>\n",
       "      <td>48.271267</td>\n",
       "    </tr>\n",
       "    <tr>\n",
       "      <th>3</th>\n",
       "      <td>1</td>\n",
       "      <td>at</td>\n",
       "      <td>statistical_area</td>\n",
       "      <td>30604002</td>\n",
       "      <td>[92201131, 32131005, 92201134, 31921000, 92101...</td>\n",
       "      <td>16.238680</td>\n",
       "      <td>48.008278</td>\n",
       "    </tr>\n",
       "    <tr>\n",
       "      <th>4</th>\n",
       "      <td>1</td>\n",
       "      <td>at</td>\n",
       "      <td>statistical_area</td>\n",
       "      <td>32305003</td>\n",
       "      <td>[92301013, 92301093, 90501025, 90501029, 91201...</td>\n",
       "      <td>16.266005</td>\n",
       "      <td>47.885716</td>\n",
       "    </tr>\n",
       "  </tbody>\n",
       "</table>\n",
       "</div>"
      ],
      "text/plain": [
       "   level country_1     entity_type_1 entity_code_1  \\\n",
       "0      1        at  statistical_area      31026008   \n",
       "1      1        at  statistical_area      31207003   \n",
       "2      1        at  statistical_area      40101342   \n",
       "3      1        at  statistical_area      30604002   \n",
       "4      1        at  statistical_area      32305003   \n",
       "\n",
       "                                       entity_code_2  avg_longitude_1  \\\n",
       "0  [31321003, 32135002, 31104000, 31304000, 31111...        15.858162   \n",
       "1  [91301110, 92301141, 31952004, 92301050, 92301...        16.417624   \n",
       "2  [40802001, 41808002, 41807000, 40827000, 40831...        14.313198   \n",
       "3  [92201131, 32131005, 92201134, 31921000, 92101...        16.238680   \n",
       "4  [92301013, 92301093, 90501025, 90501029, 91201...        16.266005   \n",
       "\n",
       "   avg_latitude_1  \n",
       "0       48.597422  \n",
       "1       48.412800  \n",
       "2       48.271267  \n",
       "3       48.008278  \n",
       "4       47.885716  "
      ]
     },
     "execution_count": 8,
     "metadata": {},
     "output_type": "execute_result"
    }
   ],
   "source": [
    "geolocations = pd.merge(left=geolocations, right=df, how='left', on='entity_code_1')\n",
    "geolocations.head()"
   ]
  },
  {
   "cell_type": "code",
   "execution_count": 13,
   "metadata": {},
   "outputs": [
    {
     "data": {
      "text/plain": [
       "[[15.858162118832068, 48.59742170205823]]"
      ]
     },
     "execution_count": 13,
     "metadata": {},
     "output_type": "execute_result"
    }
   ],
   "source": [
    "locations = []\n",
    "for i,j in zip(geolocations['avg_longitude_1'], geolocations['avg_latitude_1']):\n",
    "    locations.append([i,j])\n",
    "locations = locations[:1]\n",
    "\n",
    "locations"
   ]
  },
  {
   "cell_type": "code",
   "execution_count": null,
   "metadata": {},
   "outputs": [],
   "source": [
    "body = {\"locations\":locations,\"metrics\":[\"distance\", \"duration\"],\"sources\":[1]}\n",
    "\n",
    "headers = {\n",
    "    'Accept': 'application/json, application/geo+json, application/gpx+xml, img/png; charset=utf-8',\n",
    "    'Authorization': '5b3ce3597851110001cf624867d60a4709b54dbeb853215f4841061a',\n",
    "    'Content-Type': 'application/json; charset=utf-8'\n",
    "}\n",
    "\n",
    "start = time.time()\n",
    "call = requests.post('http://localhost:8080/ors/v2/matrix/driving-car', json=body, headers=headers)\n",
    "result = json.loads(call.text)\n",
    "end = time.time()\n",
    "\n",
    "if call.status_code == 200:\n",
    "    print(\"\\nRequest successfull with response \" + str(call.status_code))\n",
    "    print(\"\\nNumber of geolocations: \" + str(len(locations)))\n",
    "    print(\"Execution time: \" + str(round(end-start, 3)) + \" seconds\")\n",
    "    distances = np.array(result['distances'])\n",
    "    print(\"Resulting matrix of shape: \" + str(distances.shape))\n",
    "else:\n",
    "    print(\"\\nRequest failed with response \" + str(call.status_code))\n",
    "    print(\"\\nError: \" + str(result['error']))"
   ]
  },
  {
   "cell_type": "code",
   "execution_count": null,
   "metadata": {},
   "outputs": [],
   "source": []
  }
 ],
 "metadata": {
  "kernelspec": {
   "display_name": "Python 3.9.12 ('base')",
   "language": "python",
   "name": "python3"
  },
  "language_info": {
   "codemirror_mode": {
    "name": "ipython",
    "version": 3
   },
   "file_extension": ".py",
   "mimetype": "text/x-python",
   "name": "python",
   "nbconvert_exporter": "python",
   "pygments_lexer": "ipython3",
   "version": "3.9.12"
  },
  "orig_nbformat": 4,
  "vscode": {
   "interpreter": {
    "hash": "8760606666d4c21a342acad5987a3e8d8021d75dcca43e1b6f098fa510212c5e"
   }
  }
 },
 "nbformat": 4,
 "nbformat_minor": 2
}
